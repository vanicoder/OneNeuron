{
 "cells": [
  {
   "cell_type": "code",
   "execution_count": 1,
   "source": [
    "import numpy"
   ],
   "outputs": [],
   "metadata": {}
  },
  {
   "cell_type": "code",
   "execution_count": 6,
   "source": [
    "from utils.model import Perceptron\r\n",
    "from utils.all_utils import prepare_data,save_model,save_plot\r\n",
    "import pandas as pd\r\n",
    "import numpy as np\r\n",
    "\r\n",
    "\r\n",
    "\r\n",
    "\r\n",
    "def main(data,eta,epochs,filename,plotFileName):\r\n",
    "    AND = {\r\n",
    "        \"x1\": [0,0,1,1],\r\n",
    "        \"x2\": [0,1,0,1],\r\n",
    "        \"y\": [0,0,0,1],\r\n",
    "    }\r\n",
    "\r\n",
    "    df = pd.DataFrame(data)\r\n",
    "\r\n",
    "    print(df)\r\n",
    "    X,y = prepare_data(df)\r\n",
    "\r\n",
    "    model = Perceptron(eta, epochs)\r\n",
    "    model.fit(X, y)\r\n",
    "\r\n",
    "    _ = model.total_loss()\r\n",
    "\r\n",
    "    save_model(model,filename)\r\n",
    "    save_plot(df,plotFileName,model)\r\n",
    "\r\n",
    "    AND = {\r\n",
    "        \"x1\": [0,0,1,1],\r\n",
    "        \"x2\": [0,1,0,1],\r\n",
    "        \"y\": [0,0,0,1],\r\n",
    "    }\r\n",
    "    ETA = 0.3 # 0 and 1\r\n",
    "    EPOCHS = 10\r\n",
    "    main(data=AND,eta=ETA,epochs=EPOCHS,filename=\"and.model\",plotFileName=\"and.png\")\r\n",
    "\r\n",
    "\r\n",
    "\r\n"
   ],
   "outputs": [],
   "metadata": {}
  },
  {
   "cell_type": "code",
   "execution_count": 2,
   "source": [
    "from utils.model import Perceptron\r\n",
    "from utils.all_utils import prepare_data,save_model,save_plot\r\n",
    "import pandas as pd\r\n",
    "import numpy as np\r\n",
    "\r\n",
    "\r\n",
    "\r\n",
    "\r\n",
    "def main(data,eta,epochs,filename,plotFileName):\r\n",
    "\r\n",
    "    df = pd.DataFrame(data)\r\n",
    "\r\n",
    "    print(df)\r\n",
    "\r\n",
    "\r\n",
    "    X,y = prepare_data(df)\r\n",
    "\r\n",
    "    model = Perceptron(eta, epochs)\r\n",
    "    model.fit(X, y)\r\n",
    "\r\n",
    "    _ = model.total_loss()\r\n",
    "\r\n",
    "    save_model(model,filename)\r\n",
    "    save_plot(df,plotFileName,model)\r\n",
    "\r\n",
    "\r\n",
    "    OR = {\r\n",
    "        \"x1\": [0,0,1,1],\r\n",
    "        \"x2\": [0,1,0,1],\r\n",
    "        \"y\": [0,1,1,1],\r\n",
    "    }\r\n",
    "    ETA = 0.3 # 0 and 1\r\n",
    "    EPOCHS = 10\r\n",
    "    main(data=OR,eta=ETA,epochs=EPOCHS,filename=\"or.model\",plotFileName=\"or.png\")"
   ],
   "outputs": [
    {
     "output_type": "stream",
     "name": "stdout",
     "text": [
      "utils package is imported\n"
     ]
    }
   ],
   "metadata": {}
  }
 ],
 "metadata": {
  "language_info": {
   "name": "python",
   "version": "3.8.11",
   "mimetype": "text/x-python",
   "codemirror_mode": {
    "name": "ipython",
    "version": 3
   },
   "pygments_lexer": "ipython3",
   "nbconvert_exporter": "python",
   "file_extension": ".py"
  },
  "kernelspec": {
   "name": "python3",
   "display_name": "Python 3.8.11 64-bit ('OneNeuron': conda)"
  },
  "interpreter": {
   "hash": "15194ad8a77fed897d1c7502a68990ac02383bff68a97902539c83decee89012"
  }
 },
 "nbformat": 4,
 "nbformat_minor": 5
}